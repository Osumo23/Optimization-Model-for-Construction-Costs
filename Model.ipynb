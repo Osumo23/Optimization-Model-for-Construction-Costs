{
 "cells": [
  {
   "cell_type": "code",
   "execution_count": 2,
   "metadata": {},
   "outputs": [],
   "source": [
    "# Import lpSolve package\n",
    "library(lpSolve)"
   ]
  },
  {
   "cell_type": "code",
   "execution_count": 3,
   "metadata": {},
   "outputs": [],
   "source": [
    "# Set coefficients of the objective function\n",
    "f.obj <- c(6000, 9400, 11675, 14160, 6000, 9400, 11675, 6000, 9400, 6000, 2000, 2000, 2000, 2000)\n",
    " \n",
    "# Set matrix corresponding to coefficients of constraints by rows\n",
    "# Do not consider the non-negative constraint; it is automatically assumed\n",
    "f.con <- matrix(c(1, 1, 1, 1, 0, 0, 0, 0, 0, 0, 1, 0, 0, 0,\n",
    "                  0, 1, 1, 1, 1, 1, 1, 0, 0, 0, 0, 1, 0, 0,\n",
    "                  0, 0, 1, 1, 0, 1, 1, 1, 1, 0, 0, 0, 1, 0,\n",
    "                  0, 0, 0, 1, 0, 0, 1, 0, 1, 1, 0, 0, 0, 1,\n",
    "                  0, 0, 0, 0, 0, 0, 0, 0, 0, 0, 1, 0, 0, 0,\n",
    "                  0, 0, 0, 0, 0, 0, 0, 0, 0, 0, 0, 1, 0, 0,\n",
    "                  0, 0, 0, 0, 0, 0, 0, 0, 0, 0, 0, 0, 1, 0,\n",
    "                  0, 0, 0, 0, 0, 0, 0, 0, 0, 0, 0, 0, 0, 1), nrow = 8, byrow = TRUE)\n",
    "\n",
    "# Set unequality signs\n",
    "f.dir <- c(\"=\",\n",
    "           \"=\",\n",
    "           \"=\",\n",
    "           \"=\",\n",
    "           \"<\",\n",
    "           \"<\",\n",
    "           \"<\",\n",
    "           \"<\")\n",
    "\n",
    "# Set right hand side coefficients\n",
    "f.rhs <- c(10,\n",
    "           12,\n",
    "           14,\n",
    "           8,\n",
    "           1,\n",
    "           2,\n",
    "           3,\n",
    "           1)"
   ]
  },
  {
   "cell_type": "code",
   "execution_count": 4,
   "metadata": {},
   "outputs": [
    {
     "data": {
      "text/plain": [
       "Success: the objective function is 151660 "
      ]
     },
     "metadata": {},
     "output_type": "display_data"
    }
   ],
   "source": [
    "# Final value (z)\n",
    "lp(\"min\", f.obj, f.con, f.dir, f.rhs)"
   ]
  },
  {
   "cell_type": "code",
   "execution_count": 9,
   "metadata": {},
   "outputs": [
    {
     "data": {
      "text/html": [
       "<table class=\"dataframe\">\n",
       "<caption>A matrix: 14 × 2 of type chr</caption>\n",
       "<thead>\n",
       "\t<tr><th scope=col>vars</th><th scope=col>solution</th></tr>\n",
       "</thead>\n",
       "<tbody>\n",
       "\t<tr><td>x11</td><td>0                </td></tr>\n",
       "\t<tr><td>x12</td><td>0                </td></tr>\n",
       "\t<tr><td>x13</td><td>3                </td></tr>\n",
       "\t<tr><td>x14</td><td>6                </td></tr>\n",
       "\t<tr><td>x21</td><td>0                </td></tr>\n",
       "\t<tr><td>x22</td><td>0                </td></tr>\n",
       "\t<tr><td>x23</td><td>1                </td></tr>\n",
       "\t<tr><td>x31</td><td>1                </td></tr>\n",
       "\t<tr><td>x32</td><td>0                </td></tr>\n",
       "\t<tr><td>x41</td><td>0                </td></tr>\n",
       "\t<tr><td>y1 </td><td>0.999999999999999</td></tr>\n",
       "\t<tr><td>y2 </td><td>2                </td></tr>\n",
       "\t<tr><td>y3 </td><td>3                </td></tr>\n",
       "\t<tr><td>y4 </td><td>1                </td></tr>\n",
       "</tbody>\n",
       "</table>\n"
      ],
      "text/latex": [
       "A matrix: 14 × 2 of type chr\n",
       "\\begin{tabular}{ll}\n",
       " vars & solution\\\\\n",
       "\\hline\n",
       "\t x11 & 0                \\\\\n",
       "\t x12 & 0                \\\\\n",
       "\t x13 & 3                \\\\\n",
       "\t x14 & 6                \\\\\n",
       "\t x21 & 0                \\\\\n",
       "\t x22 & 0                \\\\\n",
       "\t x23 & 1                \\\\\n",
       "\t x31 & 1                \\\\\n",
       "\t x32 & 0                \\\\\n",
       "\t x41 & 0                \\\\\n",
       "\t y1  & 0.999999999999999\\\\\n",
       "\t y2  & 2                \\\\\n",
       "\t y3  & 3                \\\\\n",
       "\t y4  & 1                \\\\\n",
       "\\end{tabular}\n"
      ],
      "text/markdown": [
       "\n",
       "A matrix: 14 × 2 of type chr\n",
       "\n",
       "| vars | solution |\n",
       "|---|---|\n",
       "| x11 | 0                 |\n",
       "| x12 | 0                 |\n",
       "| x13 | 3                 |\n",
       "| x14 | 6                 |\n",
       "| x21 | 0                 |\n",
       "| x22 | 0                 |\n",
       "| x23 | 1                 |\n",
       "| x31 | 1                 |\n",
       "| x32 | 0                 |\n",
       "| x41 | 0                 |\n",
       "| y1  | 0.999999999999999 |\n",
       "| y2  | 2                 |\n",
       "| y3  | 3                 |\n",
       "| y4  | 1                 |\n",
       "\n"
      ],
      "text/plain": [
       "      vars solution         \n",
       " [1,] x11  0                \n",
       " [2,] x12  0                \n",
       " [3,] x13  3                \n",
       " [4,] x14  6                \n",
       " [5,] x21  0                \n",
       " [6,] x22  0                \n",
       " [7,] x23  1                \n",
       " [8,] x31  1                \n",
       " [9,] x32  0                \n",
       "[10,] x41  0                \n",
       "[11,] y1   0.999999999999999\n",
       "[12,] y2   2                \n",
       "[13,] y3   3                \n",
       "[14,] y4   1                "
      ]
     },
     "metadata": {},
     "output_type": "display_data"
    }
   ],
   "source": [
    "vars = c('x11', 'x12', 'x13', 'x14', 'x21', 'x22', 'x23', 'x31', 'x32', 'x41', 'y1', 'y2', 'y3', 'y4')\n",
    "# Variables final values\n",
    "solution  = lp(\"min\", f.obj, f.con, f.dir, f.rhs)$solution\n",
    "\n",
    "## coefficients\n",
    "cbind(vars, solution)"
   ]
  },
  {
   "cell_type": "code",
   "execution_count": 10,
   "metadata": {},
   "outputs": [
    {
     "data": {
      "text/html": [
       "<table class=\"dataframe\">\n",
       "<caption>A matrix: 14 × 3 of type chr</caption>\n",
       "<thead>\n",
       "\t<tr><th scope=col>vars</th><th scope=col>coef_from</th><th scope=col>coef_to</th></tr>\n",
       "</thead>\n",
       "<tbody>\n",
       "\t<tr><td>x11</td><td>2485  </td><td>1e+30</td></tr>\n",
       "\t<tr><td>x12</td><td>5675  </td><td>1e+30</td></tr>\n",
       "\t<tr><td>x13</td><td>10760 </td><td>11885</td></tr>\n",
       "\t<tr><td>x14</td><td>13950 </td><td>15075</td></tr>\n",
       "\t<tr><td>x21</td><td>3190  </td><td>1e+30</td></tr>\n",
       "\t<tr><td>x22</td><td>9190  </td><td>1e+30</td></tr>\n",
       "\t<tr><td>x23</td><td>10485 </td><td>11885</td></tr>\n",
       "\t<tr><td>x31</td><td>3190  </td><td>6915 </td></tr>\n",
       "\t<tr><td>x32</td><td>8485  </td><td>1e+30</td></tr>\n",
       "\t<tr><td>x41</td><td>2485  </td><td>1e+30</td></tr>\n",
       "\t<tr><td>y1 </td><td>-1e+30</td><td>2485 </td></tr>\n",
       "\t<tr><td>y2 </td><td>-1e+30</td><td>3190 </td></tr>\n",
       "\t<tr><td>y3 </td><td>-1e+30</td><td>6000 </td></tr>\n",
       "\t<tr><td>y4 </td><td>-1e+30</td><td>2485 </td></tr>\n",
       "</tbody>\n",
       "</table>\n"
      ],
      "text/latex": [
       "A matrix: 14 × 3 of type chr\n",
       "\\begin{tabular}{lll}\n",
       " vars & coef\\_from & coef\\_to\\\\\n",
       "\\hline\n",
       "\t x11 & 2485   & 1e+30\\\\\n",
       "\t x12 & 5675   & 1e+30\\\\\n",
       "\t x13 & 10760  & 11885\\\\\n",
       "\t x14 & 13950  & 15075\\\\\n",
       "\t x21 & 3190   & 1e+30\\\\\n",
       "\t x22 & 9190   & 1e+30\\\\\n",
       "\t x23 & 10485  & 11885\\\\\n",
       "\t x31 & 3190   & 6915 \\\\\n",
       "\t x32 & 8485   & 1e+30\\\\\n",
       "\t x41 & 2485   & 1e+30\\\\\n",
       "\t y1  & -1e+30 & 2485 \\\\\n",
       "\t y2  & -1e+30 & 3190 \\\\\n",
       "\t y3  & -1e+30 & 6000 \\\\\n",
       "\t y4  & -1e+30 & 2485 \\\\\n",
       "\\end{tabular}\n"
      ],
      "text/markdown": [
       "\n",
       "A matrix: 14 × 3 of type chr\n",
       "\n",
       "| vars | coef_from | coef_to |\n",
       "|---|---|---|\n",
       "| x11 | 2485   | 1e+30 |\n",
       "| x12 | 5675   | 1e+30 |\n",
       "| x13 | 10760  | 11885 |\n",
       "| x14 | 13950  | 15075 |\n",
       "| x21 | 3190   | 1e+30 |\n",
       "| x22 | 9190   | 1e+30 |\n",
       "| x23 | 10485  | 11885 |\n",
       "| x31 | 3190   | 6915  |\n",
       "| x32 | 8485   | 1e+30 |\n",
       "| x41 | 2485   | 1e+30 |\n",
       "| y1  | -1e+30 | 2485  |\n",
       "| y2  | -1e+30 | 3190  |\n",
       "| y3  | -1e+30 | 6000  |\n",
       "| y4  | -1e+30 | 2485  |\n",
       "\n"
      ],
      "text/plain": [
       "      vars coef_from coef_to\n",
       " [1,] x11  2485      1e+30  \n",
       " [2,] x12  5675      1e+30  \n",
       " [3,] x13  10760     11885  \n",
       " [4,] x14  13950     15075  \n",
       " [5,] x21  3190      1e+30  \n",
       " [6,] x22  9190      1e+30  \n",
       " [7,] x23  10485     11885  \n",
       " [8,] x31  3190      6915   \n",
       " [9,] x32  8485      1e+30  \n",
       "[10,] x41  2485      1e+30  \n",
       "[11,] y1   -1e+30    2485   \n",
       "[12,] y2   -1e+30    3190   \n",
       "[13,] y3   -1e+30    6000   \n",
       "[14,] y4   -1e+30    2485   "
      ]
     },
     "metadata": {},
     "output_type": "display_data"
    }
   ],
   "source": [
    "\n",
    "# Sensitivities\n",
    "coef_from = lp(\"min\", f.obj, f.con, f.dir, f.rhs, compute.sens=TRUE)$sens.coef.from\n",
    "coef_to = lp(\"min\", f.obj, f.con, f.dir, f.rhs, compute.sens=TRUE)$sens.coef.to\n",
    "\n",
    "cbind(vars, coef_from, coef_to)\n"
   ]
  },
  {
   "cell_type": "code",
   "execution_count": 13,
   "metadata": {},
   "outputs": [
    {
     "data": {
      "text/html": [
       "<style>\n",
       ".list-inline {list-style: none; margin:0; padding: 0}\n",
       ".list-inline>li {display: inline-block}\n",
       ".list-inline>li:not(:last-child)::after {content: \"\\00b7\"; padding: 0 .5ex}\n",
       "</style>\n",
       "<ol class=list-inline><li>2485</li><li>3190</li><li>6000</li><li>2485</li><li>-484.999999999999</li><li>-1190</li><li>-4000</li><li>-484.999999999999</li><li>3515</li><li>3725</li><li>0</li><li>0</li><li>2810</li><li>209.999999999997</li><li>0</li><li>0</li><li>914.999999999999</li><li>3515</li><li>0</li><li>0</li><li>0</li><li>0</li></ol>\n"
      ],
      "text/latex": [
       "\\begin{enumerate*}\n",
       "\\item 2485\n",
       "\\item 3190\n",
       "\\item 6000\n",
       "\\item 2485\n",
       "\\item -484.999999999999\n",
       "\\item -1190\n",
       "\\item -4000\n",
       "\\item -484.999999999999\n",
       "\\item 3515\n",
       "\\item 3725\n",
       "\\item 0\n",
       "\\item 0\n",
       "\\item 2810\n",
       "\\item 209.999999999997\n",
       "\\item 0\n",
       "\\item 0\n",
       "\\item 914.999999999999\n",
       "\\item 3515\n",
       "\\item 0\n",
       "\\item 0\n",
       "\\item 0\n",
       "\\item 0\n",
       "\\end{enumerate*}\n"
      ],
      "text/markdown": [
       "1. 2485\n",
       "2. 3190\n",
       "3. 6000\n",
       "4. 2485\n",
       "5. -484.999999999999\n",
       "6. -1190\n",
       "7. -4000\n",
       "8. -484.999999999999\n",
       "9. 3515\n",
       "10. 3725\n",
       "11. 0\n",
       "12. 0\n",
       "13. 2810\n",
       "14. 209.999999999997\n",
       "15. 0\n",
       "16. 0\n",
       "17. 914.999999999999\n",
       "18. 3515\n",
       "19. 0\n",
       "20. 0\n",
       "21. 0\n",
       "22. 0\n",
       "\n",
       "\n"
      ],
      "text/plain": [
       " [1]  2485  3190  6000  2485  -485 -1190 -4000  -485  3515  3725     0     0\n",
       "[13]  2810   210     0     0   915  3515     0     0     0     0"
      ]
     },
     "metadata": {},
     "output_type": "display_data"
    }
   ],
   "source": [
    "# Dual Values (first dual of the constraints and then dual of the variables)\n",
    "# Duals of the constraints and variables are mixed\n",
    "lp(\"min\", f.obj, f.con, f.dir, f.rhs, compute.sens=TRUE)$duals\n",
    "\n"
   ]
  },
  {
   "cell_type": "code",
   "execution_count": 14,
   "metadata": {},
   "outputs": [
    {
     "data": {
      "text/html": [
       "<style>\n",
       ".list-inline {list-style: none; margin:0; padding: 0}\n",
       ".list-inline>li {display: inline-block}\n",
       ".list-inline>li:not(:last-child)::after {content: \"\\00b7\"; padding: 0 .5ex}\n",
       "</style>\n",
       "<ol class=list-inline><li>4</li><li>11</li><li>13</li><li>2</li><li>0</li><li>0.999999999999999</li><li>0</li><li>0</li><li>-1</li><li>-1</li><li>-1e+30</li><li>-1e+30</li><li>-1</li><li>-6</li><li>-1e+30</li><li>-1e+30</li><li>-3</li><li>-3</li><li>-1e+30</li><li>-1e+30</li><li>-1e+30</li><li>-1e+30</li></ol>\n"
      ],
      "text/latex": [
       "\\begin{enumerate*}\n",
       "\\item 4\n",
       "\\item 11\n",
       "\\item 13\n",
       "\\item 2\n",
       "\\item 0\n",
       "\\item 0.999999999999999\n",
       "\\item 0\n",
       "\\item 0\n",
       "\\item -1\n",
       "\\item -1\n",
       "\\item -1e+30\n",
       "\\item -1e+30\n",
       "\\item -1\n",
       "\\item -6\n",
       "\\item -1e+30\n",
       "\\item -1e+30\n",
       "\\item -3\n",
       "\\item -3\n",
       "\\item -1e+30\n",
       "\\item -1e+30\n",
       "\\item -1e+30\n",
       "\\item -1e+30\n",
       "\\end{enumerate*}\n"
      ],
      "text/markdown": [
       "1. 4\n",
       "2. 11\n",
       "3. 13\n",
       "4. 2\n",
       "5. 0\n",
       "6. 0.999999999999999\n",
       "7. 0\n",
       "8. 0\n",
       "9. -1\n",
       "10. -1\n",
       "11. -1e+30\n",
       "12. -1e+30\n",
       "13. -1\n",
       "14. -6\n",
       "15. -1e+30\n",
       "16. -1e+30\n",
       "17. -3\n",
       "18. -3\n",
       "19. -1e+30\n",
       "20. -1e+30\n",
       "21. -1e+30\n",
       "22. -1e+30\n",
       "\n",
       "\n"
      ],
      "text/plain": [
       " [1]  4.0e+00  1.1e+01  1.3e+01  2.0e+00  0.0e+00  1.0e+00  0.0e+00  0.0e+00\n",
       " [9] -1.0e+00 -1.0e+00 -1.0e+30 -1.0e+30 -1.0e+00 -6.0e+00 -1.0e+30 -1.0e+30\n",
       "[17] -3.0e+00 -3.0e+00 -1.0e+30 -1.0e+30 -1.0e+30 -1.0e+30"
      ]
     },
     "metadata": {},
     "output_type": "display_data"
    },
    {
     "data": {
      "text/html": [
       "<style>\n",
       ".list-inline {list-style: none; margin:0; padding: 0}\n",
       ".list-inline>li {display: inline-block}\n",
       ".list-inline>li:not(:last-child)::after {content: \"\\00b7\"; padding: 0 .5ex}\n",
       "</style>\n",
       "<ol class=list-inline><li>11</li><li>13</li><li>1e+30</li><li>11</li><li>7</li><li>3</li><li>4</li><li>7</li><li>6</li><li>3</li><li>1e+30</li><li>1e+30</li><li>1</li><li>1</li><li>1e+30</li><li>1e+30</li><li>1</li><li>6</li><li>1e+30</li><li>1e+30</li><li>1e+30</li><li>1e+30</li></ol>\n"
      ],
      "text/latex": [
       "\\begin{enumerate*}\n",
       "\\item 11\n",
       "\\item 13\n",
       "\\item 1e+30\n",
       "\\item 11\n",
       "\\item 7\n",
       "\\item 3\n",
       "\\item 4\n",
       "\\item 7\n",
       "\\item 6\n",
       "\\item 3\n",
       "\\item 1e+30\n",
       "\\item 1e+30\n",
       "\\item 1\n",
       "\\item 1\n",
       "\\item 1e+30\n",
       "\\item 1e+30\n",
       "\\item 1\n",
       "\\item 6\n",
       "\\item 1e+30\n",
       "\\item 1e+30\n",
       "\\item 1e+30\n",
       "\\item 1e+30\n",
       "\\end{enumerate*}\n"
      ],
      "text/markdown": [
       "1. 11\n",
       "2. 13\n",
       "3. 1e+30\n",
       "4. 11\n",
       "5. 7\n",
       "6. 3\n",
       "7. 4\n",
       "8. 7\n",
       "9. 6\n",
       "10. 3\n",
       "11. 1e+30\n",
       "12. 1e+30\n",
       "13. 1\n",
       "14. 1\n",
       "15. 1e+30\n",
       "16. 1e+30\n",
       "17. 1\n",
       "18. 6\n",
       "19. 1e+30\n",
       "20. 1e+30\n",
       "21. 1e+30\n",
       "22. 1e+30\n",
       "\n",
       "\n"
      ],
      "text/plain": [
       " [1] 1.1e+01 1.3e+01 1.0e+30 1.1e+01 7.0e+00 3.0e+00 4.0e+00 7.0e+00 6.0e+00\n",
       "[10] 3.0e+00 1.0e+30 1.0e+30 1.0e+00 1.0e+00 1.0e+30 1.0e+30 1.0e+00 6.0e+00\n",
       "[19] 1.0e+30 1.0e+30 1.0e+30 1.0e+30"
      ]
     },
     "metadata": {},
     "output_type": "display_data"
    }
   ],
   "source": [
    "\n",
    "# Duals lower and upper limits\n",
    "duals_from = lp(\"min\", f.obj, f.con, f.dir, f.rhs, compute.sens=TRUE)$duals.from\n",
    "duals_to = lp(\"min\", f.obj, f.con, f.dir, f.rhs, compute.sens=TRUE)$duals.to\n",
    "duals_from\n",
    "duals_to"
   ]
  }
 ],
 "metadata": {
  "kernelspec": {
   "display_name": "R",
   "language": "R",
   "name": "ir"
  },
  "language_info": {
   "codemirror_mode": "r",
   "file_extension": ".r",
   "mimetype": "text/x-r-source",
   "name": "R",
   "pygments_lexer": "r",
   "version": "4.1.1"
  },
  "orig_nbformat": 4
 },
 "nbformat": 4,
 "nbformat_minor": 2
}
